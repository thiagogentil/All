{
 "cells": [
  {
   "cell_type": "markdown",
   "metadata": {
    "deletable": true,
    "editable": true
   },
   "source": [
    "# Letter to the editor: a note on “A New Extended Rayleigh Distribution”\n",
    "\n",
    "authors: [Luiz R. Nakamura](luiz.rn@gmail.com), [Thiago G. Ramires](thiagogentil@gmail.com) and [Ana J. Righetto](ajrighetto@gmail.com)\n",
    "\n",
    "Here we present some review and results of the paper: \n",
    "A. A. Al-Babtain, A new extended Rayleigh distribution, Journal of King Saud University – Science, https://doi.org/10.1016/j.jksus.2020.04.015\n",
    "\n",
    "\n",
    "All results obtained in this review was obtained using the software R, where the codes are shown below, step by step.  "
   ]
  },
  {
   "cell_type": "markdown",
   "metadata": {
    "deletable": true,
    "editable": true
   },
   "source": [
    "# Getting started\n",
    "\n",
    "* First, we load the data (gauge lengths of 10 mm) obtained from D. Kundu and MZ Raqab (2009).\n",
    "* Then, we construct the probability density function (pdf) and cumulative density fuctuion (cdf) of the Rayleigh (R) and type I half-logistic Rayleigh (TIHLR) models. \n",
    "\n"
   ]
  },
  {
   "cell_type": "code",
   "execution_count": 2,
   "metadata": {
    "collapsed": false,
    "deletable": true,
    "editable": true
   },
   "outputs": [],
   "source": [
    "#data set\n",
    "x <- c(1.901, 2.132, 2.203, 2.228, 2.257, 2.350, 2.361, 2.396, 2.397, 2.445, 2.454, 2.474, 2.518, 2.522, \n",
    "       2.525, 2.532, 2.575, 2.614, 2.616, 2.618, 2.624, 2.659, 2.675, 2.738, 2.740, 2.856, 2.917, 2.928, \n",
    "       2.937, 2.937, 2.977, 2.996, 3.030, 3.125, 3.139, 3.145, 3.220, 3.223, 3.235, 3.243, 3.264, 3.272, \n",
    "       3.294, 3.332, 3.346, 3.377, 3.408, 3.435, 3.493, 3.501, 3.537, 3.554, 3.562, 3.628, 3.852, 3.871, \n",
    "       3.886, 3.971, 4.024, 4.027, 4.225, 4.395, 5.020)\n",
    "\n",
    "#Rayleigh cdf and pdf\n",
    "cdf0=function(par,x){\n",
    "  alpha=par[1]; \n",
    "  1-exp(-alpha*x^2)}\n",
    "\n",
    "pdf0=function(par,x){\n",
    "  alpha=par[1]; \n",
    "  2*alpha*x*exp(-alpha*x^2)}\n",
    "\n",
    "\n",
    "#TIHLR cdf and pdf\n",
    "cdf1=function(par,x){\n",
    "  alpha=par[1];  lambda=par[2]\n",
    "  (1-exp(-alpha*lambda*x^2))/(1+exp(-alpha*lambda*x^2))}\n",
    "\n",
    "pdf1=function(par,x){\n",
    "  alpha=par[1];  lambda=par[2]\n",
    "  (4*lambda*alpha*x*exp(-alpha*lambda*x^2))/((1+exp(-alpha*lambda*x^2))^2)}\n",
    "\n"
   ]
  },
  {
   "cell_type": "markdown",
   "metadata": {
    "deletable": true,
    "editable": true
   },
   "source": [
    "Now, we refit the results presented in [Table 2](https://doi.org/10.1016/j.jksus.2020.04.015). To make it easier, we are going to use the `AdequacyModel` package. An important note here is that the estimation methods may not be the same, so we will consider the values presented in the paper in a future step."
   ]
  },
  {
   "cell_type": "code",
   "execution_count": null,
   "metadata": {
    "collapsed": false,
    "deletable": true,
    "editable": true
   },
   "outputs": [],
   "source": [
    "#refitting\n",
    "library(AdequacyModel)\n",
    "\n",
    "#Rayleigh\n",
    "R=goodness.fit(pdf=pdf0, cdf=cdf0,\n",
    "             starts = c(0.029),data=x,\n",
    "             lim_inf = c(0),lim_sup = c(10),\n",
    "             domain=c(0,Inf),method='SANN')\n",
    "\n",
    "#TIHLR\n",
    "TI=goodness.fit(pdf=pdf1, cdf=cdf1,\n",
    "             starts = c(0.029,5.267),data=x,\n",
    "             lim_inf = c(0,0),lim_sup = c(10,10),\n",
    "              domain=c(0,Inf),method=\"SANN\")\n"
   ]
  },
  {
   "cell_type": "markdown",
   "metadata": {
    "deletable": true,
    "editable": true
   },
   "source": [
    "Comparing with the values presented in Table 2. We may note that the MLEs are not the same, but they are close. "
   ]
  },
  {
   "cell_type": "code",
   "execution_count": null,
   "metadata": {
    "collapsed": false,
    "deletable": true,
    "editable": true
   },
   "outputs": [],
   "source": [
    "results1=cbind(alpha=c(0.029,0.103,round(TI$mle[1],3),round(R$mle,3)),\n",
    "               lambda=c(5.267,'-',round(TI$mle[2],3),'-'))\n",
    "row.names(results1)=c('TIHLR (paper)','R (paper)','TIHLR (refitted)','R (refitted)')\n",
    "results1\n"
   ]
  },
  {
   "cell_type": "markdown",
   "metadata": {
    "deletable": true,
    "editable": true
   },
   "source": [
    "We now compare the goodness of measures for estimates presented on [Table 3](https://doi.org/10.1016/j.jksus.2020.04.015). Here we may note some inconsistencies."
   ]
  },
  {
   "cell_type": "code",
   "execution_count": null,
   "metadata": {
    "collapsed": false,
    "deletable": true,
    "editable": true
   },
   "outputs": [],
   "source": [
    "results2=cbind(AIC=c(173.4,round(TI$AIC,1),189.0,round(R$AIC,1)),\n",
    "               CAIC=c(173.6,round(TI$`CAIC `,1),189.1,round(R$`CAIC `,1)),\n",
    "               BIC=c(173.0,round(TI$BIC,1),188.8,round(R$BIC,1)),\n",
    "               HQIC=c(175.1,round(TI$HQIC,1),189.8,round(R$HQIC,1)),\n",
    "               A=c(18.49,round(TI$A,1),32.8,round(R$A,1)),\n",
    "               W=c(1.2,round(TI$W,1),1.7,round(R$W,1))\n",
    "               )\n",
    "row.names(results2)=c('TIHLR (paper)','TIHLR (refitted)','R (paper)','R (refitted)')\n",
    "results2\n"
   ]
  },
  {
   "cell_type": "markdown",
   "metadata": {
    "deletable": true,
    "editable": true
   },
   "source": [
    "As mentioned earlier, we will consider the estimates presented on paper to obtain the goodness-of-fit measures (we only focus here on the TIHLR model). Once again we may note some incnsistencies. "
   ]
  },
  {
   "cell_type": "code",
   "execution_count": null,
   "metadata": {
    "collapsed": false,
    "deletable": true,
    "editable": true
   },
   "outputs": [],
   "source": [
    "TIHLR=goodness.fit(pdf=pdf1, cdf=cdf1,\n",
    "             mle = c(0.029,5.267),data=x,\n",
    "             lim_inf = c(0,0),lim_sup = c(10,10),\n",
    "             domain=c(0,Inf))\n",
    "TIHLR"
   ]
  },
  {
   "cell_type": "markdown",
   "metadata": {
    "deletable": true,
    "editable": true
   },
   "source": [
    "As the authors proposed a new model, justifying that it is more flexible, we will compare the results with well-known and simple models, e.g., gama, log-normal and  inverse Gausian distributions. As we may note here, all of these models presented better fits."
   ]
  },
  {
   "cell_type": "code",
   "execution_count": null,
   "metadata": {
    "collapsed": true
   },
   "outputs": [],
   "source": [
    "#Comparing the results with other simpler models\n",
    "\n",
    "#gama distribution\n",
    "pdf2=function(par,x){\n",
    "  mu=par[1];sigma=par[2]\n",
    "  dGA(x,exp(mu),exp(sigma))}\n",
    "cdf2=function(par,x){\n",
    "  mu=par[1];sigma=par[2]\n",
    "  pGA(x,exp(mu),exp(sigma))}\n",
    "\n",
    "\n",
    "#log-normal distribution\n",
    "pdf3=function(par,x){\n",
    "  mu=par[1];sigma=par[2]\n",
    "  dLOGNO(x,exp(mu),exp(sigma))}\n",
    "cdf3=function(par,x){\n",
    "  mu=par[1];sigma=par[2]\n",
    "  pLOGNO(x,exp(mu),exp(sigma))}\n",
    "\n",
    "\n",
    "#inverse g distribution\n",
    "pdf4=function(par,x){\n",
    "  mu=par[1];sigma=par[2]\n",
    "  dIG(x,exp(mu),exp(sigma))}\n",
    "cdf4=function(par,x){\n",
    "  mu=par[1];sigma=par[2]\n",
    "  pIG(x,exp(mu),exp(sigma))}\n",
    "\n",
    "\n",
    "GA=goodness.fit(pdf=pdf2, cdf=cdf2,\n",
    "                   starts = c(3,0.2),data=x,\n",
    "                   lim_inf = c(-10,-10),lim_sup = c(10,10),\n",
    "                   domain=c(0,Inf),method=\"SANN\")\n",
    "GA\n",
    "\n",
    "LN=goodness.fit(pdf=pdf3, cdf=cdf3,\n",
    "                   starts = c(0.09,-1.62),data=x,\n",
    "                   lim_inf = c(-10,-10),lim_sup = c(10,10),\n",
    "                   domain=c(0,Inf))\n",
    "LN\n",
    "\n",
    "IG=goodness.fit(pdf=pdf4, cdf=cdf4,\n",
    "                   starts = c(1,-3),data=x,\n",
    "                   lim_inf = c(-10,-10),lim_sup = c(10,10),\n",
    "                   domain=c(0,1000))\n",
    "IG"
   ]
  },
  {
   "cell_type": "markdown",
   "metadata": {},
   "source": [
    "Finally, we compare the adjustments graphically."
   ]
  },
  {
   "cell_type": "code",
   "execution_count": null,
   "metadata": {
    "collapsed": true
   },
   "outputs": [],
   "source": [
    "\n",
    "hist(x, probability = T, main='', ylim=c(0,.7), col='lightgrey')\n",
    "curve(dGA(x,exp(GA$mle[1]),exp(GA$mle[2])), add=T, lwd=2, col='red')\n",
    "curve(pdf1(par =c(0.029,5.267),x),add=T,lwd=3)\n",
    "curve(pdf0(par =c(0.103),x),add=T,lwd=3,col=3)\n",
    "legend('topright',c(\"GA\",'TIHLR','R'),lwd=3,bty='n',col=c(2,1,3))\n",
    "\n",
    "\n",
    "hist(x, probability = T, main='', ylim=c(0,.7), col='lightgrey')\n",
    "curve(dLNO(x,exp(LN$mle[1]),exp(LN$mle[2])), add=T, lwd=2, col='red')\n",
    "curve(pdf1(par =c(0.029,5.267),x),add=T,lwd=3)\n",
    "curve(pdf0(par =c(0.103),x),add=T,lwd=3,col=3)\n",
    "legend('topright',c(\"LN\",'TIHLR','R'),lwd=3,bty='n',col=c(2,1,3))\n",
    "\n",
    "\n",
    "hist(x, probability = T, main='', ylim=c(0,.7), col='lightgrey')\n",
    "curve(dIG(x,exp(IG$mle[1]),exp(IG$mle[2])), add=T, lwd=2, col='red')\n",
    "curve(pdf1(par =c(0.029,5.267),x),add=T,lwd=3)\n",
    "curve(pdf0(par =c(0.103),x),add=T,lwd=3,col=3)\n",
    "legend('topright',c(\"IG\",'TIHLR','R'),lwd=3,bty='n',col=c(2,1,3))"
   ]
  }
 ],
 "metadata": {
  "kernelspec": {
   "display_name": "R",
   "language": "R",
   "name": "ir"
  },
  "language_info": {
   "codemirror_mode": "r",
   "file_extension": ".r",
   "mimetype": "text/x-r-source",
   "name": "R",
   "pygments_lexer": "r",
   "version": "3.3.3"
  }
 },
 "nbformat": 4,
 "nbformat_minor": 2
}
